{
 "cells": [
  {
   "cell_type": "code",
   "execution_count": 1,
   "id": "08648211-5689-473e-b66a-6167581396fc",
   "metadata": {},
   "outputs": [
    {
     "name": "stdout",
     "output_type": "stream",
     "text": [
      "Requirement already satisfied: hnswlib in /Users/karthik/opt/anaconda3/lib/python3.9/site-packages (0.7.0)\n",
      "Requirement already satisfied: numpy in /Users/karthik/opt/anaconda3/lib/python3.9/site-packages (from hnswlib) (1.21.5)\n"
     ]
    }
   ],
   "source": [
    "!pip install hnswlib"
   ]
  },
  {
   "cell_type": "code",
   "execution_count": 8,
   "id": "6a55b48a",
   "metadata": {},
   "outputs": [
    {
     "name": "stdout",
     "output_type": "stream",
     "text": [
      "Requirement already satisfied: hnswlib in /Users/karthik/opt/anaconda3/lib/python3.9/site-packages (0.7.0)\r\n",
      "Requirement already satisfied: numpy in /Users/karthik/opt/anaconda3/lib/python3.9/site-packages (from hnswlib) (1.21.5)\r\n"
     ]
    }
   ],
   "source": [
    "!pip3 install hnswlib"
   ]
  },
  {
   "cell_type": "code",
   "execution_count": 9,
   "id": "52563ea3-2dd5-497b-bd85-1636e6010694",
   "metadata": {},
   "outputs": [
    {
     "ename": "ModuleNotFoundError",
     "evalue": "No module named 'hnswlib'",
     "output_type": "error",
     "traceback": [
      "\u001b[0;31m---------------------------------------------------------------------------\u001b[0m",
      "\u001b[0;31mModuleNotFoundError\u001b[0m                       Traceback (most recent call last)",
      "Cell \u001b[0;32mIn[9], line 1\u001b[0m\n\u001b[0;32m----> 1\u001b[0m \u001b[38;5;28;01mimport\u001b[39;00m \u001b[38;5;21;01mhnswlib\u001b[39;00m \u001b[38;5;28;01mas\u001b[39;00m \u001b[38;5;21;01mhnsw\u001b[39;00m\n\u001b[1;32m      2\u001b[0m \u001b[38;5;28;01mimport\u001b[39;00m \u001b[38;5;21;01mpandas\u001b[39;00m \u001b[38;5;28;01mas\u001b[39;00m \u001b[38;5;21;01mpd\u001b[39;00m\n",
      "\u001b[0;31mModuleNotFoundError\u001b[0m: No module named 'hnswlib'"
     ]
    }
   ],
   "source": [
    "import hnswlib as hnsw\n",
    "import pandas as pd"
   ]
  },
  {
   "cell_type": "code",
   "execution_count": null,
   "id": "e2ae9c7a-4634-4a04-8a12-38fc420e5d11",
   "metadata": {},
   "outputs": [],
   "source": [
    "import json"
   ]
  },
  {
   "cell_type": "code",
   "execution_count": null,
   "id": "cf1595ce-c817-48d6-a84b-b69d00f79d4f",
   "metadata": {},
   "outputs": [],
   "source": [
    "import numpy as np\n",
    "import ast"
   ]
  },
  {
   "cell_type": "code",
   "execution_count": 5,
   "id": "69f3fd33-d932-45a8-9d61-070d3046810b",
   "metadata": {},
   "outputs": [],
   "source": [
    "# from google.cloud import bigquery\n",
    "# client=bigquery.Client()"
   ]
  },
  {
   "cell_type": "code",
   "execution_count": 6,
   "id": "fc726433-4279-450e-8136-b900bc620c54",
   "metadata": {},
   "outputs": [],
   "source": [
    "# sql=\"\"\"\n",
    "# SELECT embs,postId FROM `maximal-furnace-783.sc_hamsa_logging.hamsa-insert-events-logging` WHERE DATE(time) = \"2023-04-03\" AND source='sc-warmup-cold-job'\n",
    "# \"\"\"\n",
    "# cvar_emb=client.query(sql).to_dataframe()"
   ]
  },
  {
   "cell_type": "code",
   "execution_count": 3,
   "id": "3dd5f0c3-9770-490e-a1a2-708c244da9bf",
   "metadata": {},
   "outputs": [
    {
     "ename": "NameError",
     "evalue": "name 'pd' is not defined",
     "output_type": "error",
     "traceback": [
      "\u001b[0;31m---------------------------------------------------------------------------\u001b[0m",
      "\u001b[0;31mNameError\u001b[0m                                 Traceback (most recent call last)",
      "Cell \u001b[0;32mIn[3], line 1\u001b[0m\n\u001b[0;32m----> 1\u001b[0m cvar_emb\u001b[38;5;241m=\u001b[39m\u001b[43mpd\u001b[49m\u001b[38;5;241m.\u001b[39mread_csv(\u001b[38;5;124m\"\u001b[39m\u001b[38;5;124m/Users/karthik/Downloads/cvar_embeddings_2022_04_03.csv\u001b[39m\u001b[38;5;124m\"\u001b[39m)\n",
      "\u001b[0;31mNameError\u001b[0m: name 'pd' is not defined"
     ]
    }
   ],
   "source": [
    "cvar_emb=pd.read_csv(\"/Users/karthik/Downloads/cvar_embeddings_2022_04_03.csv\")"
   ]
  },
  {
   "cell_type": "code",
   "execution_count": 8,
   "id": "c25e941d-7dc9-4a8a-a667-0e105109c9c7",
   "metadata": {},
   "outputs": [],
   "source": [
    "cvar_emb=cvar_emb.drop(\"Unnamed: 0\",axis=1)"
   ]
  },
  {
   "cell_type": "code",
   "execution_count": 9,
   "id": "2334bff5-30ac-468d-a106-021fbcc646ec",
   "metadata": {},
   "outputs": [],
   "source": [
    "cvar_emb[\"hnsw_embs\"]=cvar_emb[\"embs\"].apply(lambda x:json.loads(x))\n",
    "emb_array,labels=np.array(cvar_emb[\"hnsw_embs\"].tolist()),np.array(cvar_emb[\"postId\"].tolist())"
   ]
  },
  {
   "cell_type": "code",
   "execution_count": 10,
   "id": "052fb693-cf32-4978-8582-365090922ab4",
   "metadata": {},
   "outputs": [
    {
     "data": {
      "text/plain": [
       "(4508026, 32)"
      ]
     },
     "execution_count": 10,
     "metadata": {},
     "output_type": "execute_result"
    }
   ],
   "source": [
    "emb_array.shape"
   ]
  },
  {
   "cell_type": "code",
   "execution_count": 11,
   "id": "bee20dfa-cb89-4287-ac55-7432e68e7d54",
   "metadata": {},
   "outputs": [],
   "source": [
    "cvarANNIndex=hnsw.Index(space='cosine',dim=32)"
   ]
  },
  {
   "cell_type": "code",
   "execution_count": 12,
   "id": "4ec840aa-f784-446d-a6f6-6a409c2498a2",
   "metadata": {},
   "outputs": [],
   "source": [
    "cvarANNIndex.init_index(max_elements=20000000,M=16,ef_construction=80, random_seed=100)"
   ]
  },
  {
   "cell_type": "code",
   "execution_count": 13,
   "id": "0879f303-e5d2-4cb7-b21e-6b501c65f5b9",
   "metadata": {},
   "outputs": [],
   "source": [
    "cvarANNIndex.add_items(emb_array,labels)"
   ]
  },
  {
   "cell_type": "code",
   "execution_count": null,
   "id": "9fbdd21b-ee43-4eec-8d56-daa7569fa5bb",
   "metadata": {},
   "outputs": [],
   "source": [
    "random.randint?"
   ]
  },
  {
   "cell_type": "code",
   "execution_count": null,
   "id": "63535fa3-803f-4641-b05a-33209cc190b3",
   "metadata": {},
   "outputs": [],
   "source": [
    "def chooseQuery(df_):\n",
    "    r,c=df_.shape\n",
    "    "
   ]
  },
  {
   "cell_type": "code",
   "execution_count": 3,
   "id": "d557869e-7b44-45ae-9e31-f285d3b88f44",
   "metadata": {},
   "outputs": [],
   "source": [
    "import requests\n",
    "\n",
    "headers = {\n",
    "    'X-SHARECHAT-AUTHORIZED-USERID': '1223299694',\n",
    "    'Content-Type': 'application/json',\n",
    "}\n",
    "\n",
    "# Sample postIds param for get_postcard_data\n",
    "# json_data = {\n",
    "#     'postIds': [\n",
    "#         '1006118234',\n",
    "#         '5373429434',\n",
    "#         '7253394534',\n",
    "#         '1326437434',\n",
    "#         '9346930334',\n",
    "#         '7548826334',\n",
    "#         '3799908434',\n",
    "#     ],\n",
    "# }\n",
    "# Response Parsing\n",
    "# v -> video\n",
    "# b -> thumbnail\n",
    "# c -> caption\n",
    "# g -> high res image\n",
    "def get_postcard_data(postIds):\n",
    "    response = requests.get(\n",
    "        'http://post-rendering-service.sharechat.internal/post-rendering-service/v1.0.0/postCards',\n",
    "        headers=headers,\n",
    "        json=postIds,\n",
    "    )\n",
    "    thumbnails = [elem['b'] for elem in response.json()]\n",
    "    labels = [elem['c'] for elem in response.json()]\n",
    "    return thumbnails, labels"
   ]
  },
  {
   "cell_type": "code",
   "execution_count": 113,
   "id": "fc13e2d4-57bf-458c-9017-8c897574834c",
   "metadata": {},
   "outputs": [],
   "source": [
    "aa=cvar_emb.iloc[0].postId"
   ]
  },
  {
   "cell_type": "code",
   "execution_count": 117,
   "id": "5f99d9e6-3fb8-4631-a9e6-989d0caf8553",
   "metadata": {},
   "outputs": [
    {
     "data": {
      "text/plain": [
       "'9521867845'"
      ]
     },
     "execution_count": 117,
     "metadata": {},
     "output_type": "execute_result"
    }
   ],
   "source": [
    "str(aa)"
   ]
  },
  {
   "cell_type": "code",
   "execution_count": 4,
   "id": "c728ddda-0e4d-4c87-8171-09b152f745ff",
   "metadata": {},
   "outputs": [],
   "source": [
    "thumbnails, labels = get_postcard_data({'postIds': [str(1744733534)]})\n"
   ]
  },
  {
   "cell_type": "code",
   "execution_count": 6,
   "id": "ca47a7bc",
   "metadata": {},
   "outputs": [
    {
     "ename": "ModuleNotFoundError",
     "evalue": "No module named 'ipyplot'",
     "output_type": "error",
     "traceback": [
      "\u001b[0;31m---------------------------------------------------------------------------\u001b[0m",
      "\u001b[0;31mModuleNotFoundError\u001b[0m                       Traceback (most recent call last)",
      "Cell \u001b[0;32mIn[6], line 1\u001b[0m\n\u001b[0;32m----> 1\u001b[0m \u001b[38;5;28;01mimport\u001b[39;00m \u001b[38;5;21;01mipyplot\u001b[39;00m\n",
      "\u001b[0;31mModuleNotFoundError\u001b[0m: No module named 'ipyplot'"
     ]
    }
   ],
   "source": [
    "import ipyplot"
   ]
  },
  {
   "cell_type": "code",
   "execution_count": 5,
   "id": "7debc692-a7a9-427a-af67-a22bca17de6f",
   "metadata": {},
   "outputs": [
    {
     "ename": "NameError",
     "evalue": "name 'ipyplot' is not defined",
     "output_type": "error",
     "traceback": [
      "\u001b[0;31m---------------------------------------------------------------------------\u001b[0m",
      "\u001b[0;31mNameError\u001b[0m                                 Traceback (most recent call last)",
      "Cell \u001b[0;32mIn[5], line 1\u001b[0m\n\u001b[0;32m----> 1\u001b[0m \u001b[43mipyplot\u001b[49m\u001b[38;5;241m.\u001b[39mplot_images(thumbnails, labels)\n",
      "\u001b[0;31mNameError\u001b[0m: name 'ipyplot' is not defined"
     ]
    }
   ],
   "source": [
    "ipyplot.plot_images(thumbnails, labels)"
   ]
  }
 ],
 "metadata": {
  "environment": {
   "kernel": "python3",
   "name": "common-cpu.m104",
   "type": "gcloud",
   "uri": "gcr.io/deeplearning-platform-release/base-cpu:m104"
  },
  "kernelspec": {
   "display_name": "Python 3 (ipykernel)",
   "language": "python",
   "name": "python3"
  },
  "language_info": {
   "codemirror_mode": {
    "name": "ipython",
    "version": 3
   },
   "file_extension": ".py",
   "mimetype": "text/x-python",
   "name": "python",
   "nbconvert_exporter": "python",
   "pygments_lexer": "ipython3",
   "version": "3.9.16"
  }
 },
 "nbformat": 4,
 "nbformat_minor": 5
}
